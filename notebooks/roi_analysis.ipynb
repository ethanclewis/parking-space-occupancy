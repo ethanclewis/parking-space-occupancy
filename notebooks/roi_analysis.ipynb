{
 "cells": [
  {
   "cell_type": "markdown",
   "metadata": {},
   "source": [
    "# Envirionment"
   ]
  },
  {
   "cell_type": "code",
   "execution_count": null,
   "metadata": {},
   "outputs": [],
   "source": [
    "import os\n",
    "import io\n",
    "import time\n",
    "import requests\n",
    "import zipfile\n",
    "import torch\n",
    "import numpy as np\n",
    "\n",
    "from dataset import acpds\n",
    "from utils import roi_analysis as ra"
   ]
  },
  {
   "cell_type": "code",
   "execution_count": null,
   "metadata": {},
   "outputs": [],
   "source": [
    "# Adjust CWD\n",
    "directory = os.getcwd().replace('\\\\notebooks', '')\n",
    "os.chdir(directory)"
   ]
  },
  {
   "cell_type": "code",
   "execution_count": null,
   "metadata": {},
   "outputs": [],
   "source": [
    "# Download and store ACPDS\n",
    "# Alternatively, you can manually download 'data' from README.md and upload 'data' under the 'dataset' folder to circumvent this if statement\n",
    "if not os.path.exists('dataset/data'): \n",
    "    r = requests.get(\"https://pub-e8bbdcbe8f6243b2a9933704a9b1d8bc.r2.dev/parking%2Frois_gopro.zip\")\n",
    "    z = zipfile.ZipFile(io.BytesIO(r.content))\n",
    "    z.extractall('dataset/data')"
   ]
  },
  {
   "cell_type": "markdown",
   "metadata": {},
   "source": [
    "# Data"
   ]
  },
  {
   "cell_type": "code",
   "execution_count": null,
   "metadata": {},
   "outputs": [],
   "source": [
    "train_ds, valid_ds, test_ds = acpds.create_datasets('dataset/data') # create training, validation, and test splits\n",
    "image_batch, rois_batch, labels_batch = next(iter(valid_ds)) # retrieve next batch of data from validation set\n",
    "image_raw, rois, labels = image_batch[0], rois_batch[0], labels_batch[0] # select first observation in batch"
   ]
  },
  {
   "cell_type": "code",
   "execution_count": null,
   "metadata": {},
   "outputs": [
    {
     "name": "stdout",
     "output_type": "stream",
     "text": [
      "(0.11825147082472777, 0.12224295054808323, 0.050866807057034405, 0.07349692515270921)\n",
      "(0.09843804208295685, 0.10224390168275152, 0.04948001700852599, 0.07446447972740446)\n",
      "(0.10496666627349677, 0.10206117453398528, 0.05481679075294071, 0.08419208118209133)\n"
     ]
    }
   ],
   "source": [
    "# Calculate (avg. W, avg. H, W std., H std.) for each data set split\n",
    "\n",
    "print(ra.calculate_avg_std_dimensions_for_dataset(train_ds))\n",
    "print(ra.calculate_avg_std_dimensions_for_dataset(valid_ds))\n",
    "print(ra.calculate_avg_std_dimensions_for_dataset(test_ds))"
   ]
  },
  {
   "cell_type": "markdown",
   "metadata": {},
   "source": [
    "# Results"
   ]
  },
  {
   "cell_type": "markdown",
   "metadata": {},
   "source": [
    "### Training"
   ]
  },
  {
   "cell_type": "markdown",
   "metadata": {},
   "source": [
    "- **avg. WIDTH:** 0.11825147082472777\n",
    "- **WIDTH std.:** 0.050866807057034405\n",
    "- **avg. HEIGHT:** 0.12224295054808323\n",
    "- **HEIGHT std.:** 0.07349692515270921\n",
    "\n",
    "- **min. RATIO:** 1.3823622176606862\n",
    "- **max. RATIO:** 0.8639950203109152\n",
    "- **avg. RATIO:** 0.9673479762599034"
   ]
  },
  {
   "cell_type": "markdown",
   "metadata": {},
   "source": [
    "### Validation"
   ]
  },
  {
   "cell_type": "markdown",
   "metadata": {},
   "source": [
    "- **avg. WIDTH:** 0.09843804208295685\n",
    "- **WIDTH std.:** 0.04948001700852599\n",
    "- **avg. HEIGHT:** 0.10224390168275152\n",
    "- **HEIGHT std.:** 0.07446447972740446\n",
    "\n",
    "- **min. RATIO:** 1.7623845864441137\n",
    "- **max. RATIO:** 0.8370743815945649\n",
    "- **avg. RATIO:** 0.9627766591732413"
   ]
  },
  {
   "cell_type": "markdown",
   "metadata": {},
   "source": [
    "### Testing"
   ]
  },
  {
   "cell_type": "markdown",
   "metadata": {},
   "source": [
    "- **avg. WIDTH:** 0.10496666627349677\n",
    "- **WIDTH std.:** 0.05481679075294071\n",
    "- **avg. HEIGHT:** 0.10206117453398528\n",
    "- **HEIGHT std.:** 0.08419208118209133\n",
    "\n",
    "- **min. RATIO:** 2.8065148316683155\n",
    "- **max. RATIO:** 0.8578827597516495\n",
    "- **avg. RATIO:** 1.0284681393564012"
   ]
  },
  {
   "cell_type": "markdown",
   "metadata": {},
   "source": [
    "### **Overall (Average)**"
   ]
  },
  {
   "cell_type": "markdown",
   "metadata": {},
   "source": [
    "- **avg. WIDTH:** 0.10721872639372713\n",
    "- **WIDTH std.:** 0.051721204939500366\n",
    "- **avg. HEIGHT:** 0.10884934225494002\n",
    "- **HEIGHT std.:** 0.07738449535406833\n",
    "\n",
    "- **min. RATIO:** 1.9837538785910385\n",
    "- **max. RATIO:** 0.8529840538857099\n",
    "- **avg. RATIO:** 0.9861975915965152"
   ]
  }
 ],
 "metadata": {
  "language_info": {
   "name": "python"
  }
 },
 "nbformat": 4,
 "nbformat_minor": 2
}
